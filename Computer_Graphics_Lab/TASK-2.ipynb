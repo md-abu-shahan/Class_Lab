{
 "cells": [
  {
   "cell_type": "code",
   "execution_count": 1,
   "metadata": {},
   "outputs": [
    {
     "name": "stdout",
     "output_type": "stream",
     "text": [
      "width 3.0 inch\n"
     ]
    }
   ],
   "source": [
    "h=2\n",
    "a=1.5\n",
    "w=a*h\n",
    "\n",
    "print('width', w,'inch')"
   ]
  },
  {
   "cell_type": "code",
   "execution_count": 3,
   "metadata": {},
   "outputs": [
    {
     "data": {
      "text/plain": [
       "[0.9992156862745099, 0.996078431372549, 0.9980392156862745]"
      ]
     },
     "execution_count": 3,
     "metadata": {},
     "output_type": "execute_result"
    }
   ],
   "source": [
    "R,G,B=.2,1,.5\n",
    "C = 1.0 - (R / 255.0);\n",
    "M = 1.0 - (G / 255.0);\n",
    "Y = 1.0 - (B / 255.0);\n",
    "\n",
    "cmyArray = [C, M, Y];\n",
    "cmyArray"
   ]
  },
  {
   "cell_type": "code",
   "execution_count": null,
   "metadata": {},
   "outputs": [],
   "source": []
  }
 ],
 "metadata": {
  "kernelspec": {
   "display_name": "Python 3",
   "language": "python",
   "name": "python3"
  },
  "language_info": {
   "codemirror_mode": {
    "name": "ipython",
    "version": 3
   },
   "file_extension": ".py",
   "mimetype": "text/x-python",
   "name": "python",
   "nbconvert_exporter": "python",
   "pygments_lexer": "ipython3",
   "version": "3.7.3"
  }
 },
 "nbformat": 4,
 "nbformat_minor": 2
}
