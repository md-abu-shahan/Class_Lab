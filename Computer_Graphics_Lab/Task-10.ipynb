{
 "cells": [
  {
   "cell_type": "markdown",
   "metadata": {},
   "source": [
    "# Task 10"
   ]
  },
  {
   "cell_type": "code",
   "execution_count": 1,
   "metadata": {},
   "outputs": [],
   "source": [
    "import math\n",
    "import numpy as np\n",
    "import matplotlib.pyplot as plt"
   ]
  },
  {
   "cell_type": "code",
   "execution_count": 2,
   "metadata": {},
   "outputs": [],
   "source": [
    "r=100 \n",
    "ip=[0,r]                        \n",
    "dp=1-r     "
   ]
  },
  {
   "cell_type": "code",
   "execution_count": 3,
   "metadata": {},
   "outputs": [],
   "source": [
    "xk=ip[0]\n",
    "yk=ip[1]\n",
    "p=dp\n",
    "\n",
    "tx=[]\n",
    "ty=[]\n",
    "tx.append(xk)\n",
    "ty.append(yk)\n",
    "\n",
    "while((xk<yk)):\n",
    "    if(p<0):\n",
    "        p=p+2*xk+3\n",
    "        xk+=1\n",
    "        \n",
    "    else:\n",
    "        p=p+2*(xk-yk)+5\n",
    "        xk+=1\n",
    "        yk-=1\n",
    "    \n",
    "    tx.append(xk)\n",
    "    ty.append(yk)"
   ]
  },
  {
   "cell_type": "code",
   "execution_count": 4,
   "metadata": {},
   "outputs": [],
   "source": [
    "#octant 1\n",
    "octant=[]\n",
    "for i in range(0,len(tx)):\n",
    "    octant.append([tx[i],ty[i]])\n",
    "\n",
    "#octant 2\n",
    "t1=tx[::-1]\n",
    "t2=ty[::-1]\n",
    "for i in range(0,len(tx)):\n",
    "    octant.append([t2[i],t1[i]])\n",
    "\n",
    "#octant 3\n",
    "t3=np.array(ty)\n",
    "t4=np.array(tx)*(-1)\n",
    "for i in range(0,len(tx)):\n",
    "    octant.append([t3[i],t4[i]])\n",
    "\n",
    "#octant 4\n",
    "t5=np.array(tx[::-1])\n",
    "t6=np.array(ty[::-1])*(-1)\n",
    "for i in range(0,len(tx)):\n",
    "    octant.append([t5[i],t6[i]])\n",
    "    \n",
    "#octant 5\n",
    "t7=np.array(tx)*(-1)\n",
    "t8=np.array(ty)*(-1)\n",
    "for i in range(0,len(tx)):\n",
    "    octant.append([t7[i],t8[i]])\n",
    "\n",
    "#octant 6\n",
    "t9=np.array(tx[::-1])*(-1)\n",
    "t10=np.array(ty[::-1])*(-1)\n",
    "for i in range(0,len(tx)):\n",
    "    octant.append([t10[i],t9[i]])\n",
    "\n",
    "#octant 7\n",
    "t11=np.array(tx)\n",
    "t12=np.array(ty)*(-1)\n",
    "for i in range(0,len(tx)):\n",
    "    octant.append([t12[i],t11[i]])\n",
    "\n",
    "#octant 8\n",
    "t13=np.array(tx[::-1])*(-1)\n",
    "t14=np.array(ty[::-1])\n",
    "for i in range(0,len(tx)):\n",
    "    octant.append([t13[i],t14[i]])"
   ]
  },
  {
   "cell_type": "code",
   "execution_count": 5,
   "metadata": {},
   "outputs": [
    {
     "data": {
      "image/png": "[encoded data removed]",
      "text/plain": [
       "<Figure size 432x288 with 1 Axes>"
      ]
     },
     "metadata": {
      "needs_background": "light"
     },
     "output_type": "display_data"
    }
   ],
   "source": [
    "octant=np.array(octant)\n",
    "plt.scatter(octant[:,:1], octant[:,1:2], color='b')\n",
    "plt.plot(octant[:,:1],octant[:,1:2],color='r')\n",
    "plt.show()"
   ]
  },
  {
   "cell_type": "code",
   "execution_count": null,
   "metadata": {},
   "outputs": [],
   "source": []
  }
 ],
 "metadata": {
  "kernelspec": {
   "display_name": "Python 3",
   "language": "python",
   "name": "python3"
  },
  "language_info": {
   "codemirror_mode": {
    "name": "ipython",
    "version": 3
   },
   "file_extension": ".py",
   "mimetype": "text/x-python",
   "name": "python",
   "nbconvert_exporter": "python",
   "pygments_lexer": "ipython3",
   "version": "3.7.3"
  }
 },
 "nbformat": 4,
 "nbformat_minor": 2
}
