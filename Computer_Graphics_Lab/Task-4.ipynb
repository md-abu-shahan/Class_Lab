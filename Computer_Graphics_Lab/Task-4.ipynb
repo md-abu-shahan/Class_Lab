{
 "cells": [
  {
   "cell_type": "code",
   "execution_count": 1,
   "metadata": {},
   "outputs": [],
   "source": [
    "import numpy as np\n",
    "import matplotlib.pyplot as plt\n",
    "import math"
   ]
  },
  {
   "cell_type": "code",
   "execution_count": 2,
   "metadata": {},
   "outputs": [
    {
     "name": "stdout",
     "output_type": "stream",
     "text": [
      "Center: \n",
      "4\n",
      "4\n",
      "input redius: 10\n",
      "[0, 10] -9\n"
     ]
    }
   ],
   "source": [
    "#initial work:\n",
    "print(\"Center: \")\n",
    "x=int(input())\n",
    "y=int(input())\n",
    "\n",
    "r=int(input(\"input redius: \"))  #input any redius\n",
    "ip=[0,r]                        #initial point\n",
    "dp=1-r                          #initial decision parameter\n",
    "print (ip,dp)"
   ]
  },
  {
   "cell_type": "code",
   "execution_count": 3,
   "metadata": {},
   "outputs": [
    {
     "name": "stdout",
     "output_type": "stream",
     "text": [
      "iteration \t   xk,yk \t\t pk \t\t xk+1,yk+1\n",
      "\n",
      "0 \t\t   0 , 10 \t\t -9 \t\t 1 , 10\n",
      "1 \t\t   1 , 10 \t\t -6 \t\t 2 , 10\n",
      "2 \t\t   2 , 10 \t\t -1 \t\t 3 , 10\n",
      "3 \t\t   3 , 10 \t\t 6 \t\t 4 , 9\n",
      "4 \t\t   4 , 9 \t\t -3 \t\t 5 , 9\n",
      "5 \t\t   5 , 9 \t\t 8 \t\t 6 , 8\n",
      "6 \t\t   6 , 8 \t\t 5 \t\t 7 , 7\n"
     ]
    }
   ],
   "source": [
    "it=0\n",
    "\n",
    "xk=ip[0]\n",
    "yk=ip[1]\n",
    "p=dp\n",
    "\n",
    "tx=[]\n",
    "ty=[]\n",
    "tx.append(xk)\n",
    "ty.append(yk)\n",
    "print(\"iteration\", \"\\t\" ,\"  xk,yk\", \"\\t\\t\" ,\"pk\",\"\\t\\t\"  ,\"xk+1,yk+1\\n\")\n",
    "while((xk<yk)):\n",
    "    print(it, \"\\t\\t  \" ,xk,\",\",yk,\"\\t\\t\" ,p, end =\" \")\n",
    "    if(p<0):\n",
    "        p=p+2*xk+3\n",
    "        xk+=1\n",
    "        \n",
    "    else:\n",
    "        p=p+2*(xk-yk)+5\n",
    "        xk+=1\n",
    "        yk-=1\n",
    "    \n",
    "    print(\"\\t\\t\"  ,xk,\",\",yk)\n",
    "    tx.append(xk)\n",
    "    ty.append(yk)\n",
    "    it+=1"
   ]
  },
  {
   "cell_type": "code",
   "execution_count": 4,
   "metadata": {},
   "outputs": [
    {
     "data": {
      "text/plain": [
       "array([[ 4, 14],\n",
       "       [ 5, 14],\n",
       "       [ 6, 14],\n",
       "       [ 7, 14],\n",
       "       [ 8, 13],\n",
       "       [ 9, 13],\n",
       "       [10, 12],\n",
       "       [11, 11],\n",
       "       [11, 11],\n",
       "       [12, 10],\n",
       "       [13,  9],\n",
       "       [13,  8],\n",
       "       [14,  7],\n",
       "       [14,  6],\n",
       "       [14,  5],\n",
       "       [14,  4],\n",
       "       [14,  4],\n",
       "       [14,  3],\n",
       "       [14,  2],\n",
       "       [14,  1],\n",
       "       [13,  0],\n",
       "       [13, -1],\n",
       "       [12, -2],\n",
       "       [11, -3],\n",
       "       [11, -3],\n",
       "       [10, -4],\n",
       "       [ 9, -5],\n",
       "       [ 8, -5],\n",
       "       [ 7, -6],\n",
       "       [ 6, -6],\n",
       "       [ 5, -6],\n",
       "       [ 4, -6],\n",
       "       [ 4, -6],\n",
       "       [ 3, -6],\n",
       "       [ 2, -6],\n",
       "       [ 1, -6],\n",
       "       [ 0, -5],\n",
       "       [-1, -5],\n",
       "       [-2, -4],\n",
       "       [-3, -3],\n",
       "       [-3, -3],\n",
       "       [-4, -2],\n",
       "       [-5, -1],\n",
       "       [-5,  0],\n",
       "       [-6,  1],\n",
       "       [-6,  2],\n",
       "       [-6,  3],\n",
       "       [-6,  4],\n",
       "       [-6,  4],\n",
       "       [-6,  5],\n",
       "       [-6,  6],\n",
       "       [-6,  7],\n",
       "       [-5,  8],\n",
       "       [-5,  9],\n",
       "       [-4, 10],\n",
       "       [-3, 11],\n",
       "       [-3, 11],\n",
       "       [-2, 12],\n",
       "       [-1, 13],\n",
       "       [ 0, 13],\n",
       "       [ 1, 14],\n",
       "       [ 2, 14],\n",
       "       [ 3, 14],\n",
       "       [ 4, 14]])"
      ]
     },
     "execution_count": 4,
     "metadata": {},
     "output_type": "execute_result"
    }
   ],
   "source": [
    "octant=[]\n",
    "\n",
    "#octant 1\n",
    "for i,j in zip(tx,ty):\n",
    "    octant.append([i+x,j+y])\n",
    "#print(octant)\n",
    "\n",
    "#octant 2\n",
    "t1=tx[::-1]\n",
    "t2=ty[::-1]\n",
    "for i,j in zip(t1,t2):\n",
    "    octant.append([j+x,i+y])\n",
    "\n",
    "#octant 3\n",
    "t1=np.array(tx)*(-1)\n",
    "t2=ty\n",
    "for i,j in zip(t1,t2):\n",
    "    octant.append([j+x,i+y])\n",
    "\n",
    "#octant 4\n",
    "t1=np.array(tx[::-1])\n",
    "t2=np.array(ty[::-1])*(-1)\n",
    "for i,j in zip(t1,t2):\n",
    "    octant.append([i+x,j+y])\n",
    "\n",
    "#octant 5\n",
    "t1=np.array(tx)*(-1)\n",
    "t2=np.array(ty)*(-1)\n",
    "for i,j in zip(t1,t2):\n",
    "    octant.append([i+x,j+y])\n",
    "\n",
    "#octant 6\n",
    "t1=np.array(tx[::-1])*(-1)\n",
    "t2=np.array(ty[::-1])*(-1)\n",
    "for i,j in zip(t1,t2):\n",
    "    octant.append([j+x,i+y])\n",
    "\n",
    "#octant 7\n",
    "t1=np.array(tx)\n",
    "t2=np.array(ty)*(-1)\n",
    "for i,j in zip(t1,t2):\n",
    "    octant.append([j+x,i+y])\n",
    "\n",
    "#octant 8\n",
    "t1=np.array(tx[::-1])*(-1)\n",
    "t2=ty[::-1]\n",
    "for i,j in zip(t1,t2):\n",
    "    octant.append([i+x,j+y])\n",
    "    \n",
    "octant=np.array(octant)\n",
    "octant"
   ]
  },
  {
   "cell_type": "code",
   "execution_count": 5,
   "metadata": {},
   "outputs": [],
   "source": [
    "\n",
    "def ploting(x):\n",
    "    z=[]\n",
    "    z2=[]\n",
    "    for i in x:\n",
    "        z.append(i[0]);\n",
    "        z2.append(i[1]);\n",
    "    z.append(z[0])\n",
    "    z2.append(z2[0])\n",
    "    plt.scatter(z,z2,color='red')\n",
    "    plt.plot(z,z2,color='green')\n",
    "    plt.show()"
   ]
  },
  {
   "cell_type": "code",
   "execution_count": 6,
   "metadata": {},
   "outputs": [
    {
     "data": {
      "image/png": "[encoded data removed]",
      "text/plain": [
       "<Figure size 432x288 with 1 Axes>"
      ]
     },
     "metadata": {
      "needs_background": "light"
     },
     "output_type": "display_data"
    }
   ],
   "source": [
    "ploting(octant)"
   ]
  },
  {
   "cell_type": "code",
   "execution_count": null,
   "metadata": {},
   "outputs": [],
   "source": []
  }
 ],
 "metadata": {
  "kernelspec": {
   "display_name": "Python 3",
   "language": "python",
   "name": "python3"
  },
  "language_info": {
   "codemirror_mode": {
    "name": "ipython",
    "version": 3
   },
   "file_extension": ".py",
   "mimetype": "text/x-python",
   "name": "python",
   "nbconvert_exporter": "python",
   "pygments_lexer": "ipython3",
   "version": "3.7.3"
  }
 },
 "nbformat": 4,
 "nbformat_minor": 2
}
