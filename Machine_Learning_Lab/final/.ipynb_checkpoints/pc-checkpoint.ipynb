{
 "cells": [
  {
   "cell_type": "code",
   "execution_count": 2,
   "metadata": {},
   "outputs": [
    {
     "data": {
      "image/png": "[encoded data removed]",
      "text/plain": [
       "<Figure size 432x288 with 1 Axes>"
      ]
     },
     "metadata": {
      "needs_background": "light"
     },
     "output_type": "display_data"
    },
    {
     "name": "stdout",
     "output_type": "stream",
     "text": [
      "[14.  5.]\n",
      "[16.  5.]\n",
      "[6.00000000e+00 2.36356074e-17]\n",
      "[10.  1.]\n",
      "[8. 2.]\n",
      "[15.  6.]\n",
      "[15.  7.]\n",
      "[8. 2.]\n",
      "[8. 1.]\n",
      "[15.  4.]\n"
     ]
    }
   ],
   "source": [
    "import numpy as np\n",
    "import matplotlib.pyplot as plt\n",
    "import math\n",
    "\n",
    "\n",
    "nX=[[14, 5], [16, 5], [6, 0], [10, 1], [8, 2], [15, 6], [15, 7], [8, 2], [8, 1], [15, 4]]\n",
    "X=np.array(nX)\n",
    "y=np.array([1, 1, 0, 0, 0, 1, 1, 0, 0, 1])\n",
    "\n",
    "\n",
    "\n",
    "avg=X.mean(axis=0)\n",
    "\n",
    "\n",
    "trainset=X-avg\n",
    "\n",
    "\n",
    "covM=np.dot(trainset.T, trainset) /( len(trainset) -1 )\n",
    "\n",
    "\n",
    "e,EV=np.linalg.eigh(covM)\n",
    "\n",
    "\n",
    "e=e[::-1]\n",
    "EV=EV[::-1]\n",
    "\n",
    "\n",
    "fc=(e[0]/(e[0]+e[1]))*100\n",
    "sc=(e[1]/(e[0]+e[1]))*100\n",
    "\n",
    "\n",
    "pc=[]\n",
    "for x in trainset:\n",
    "    pc1=np.dot(EV[0], x)\n",
    "    pc2=np.dot(EV[1], x)\n",
    "    pc.append([pc1,pc2])\n",
    "pc=np.array(pc)\n",
    "\n",
    "\n",
    "ar=pc[:,0].copy()\n",
    "val=0\n",
    "plt.scatter(ar, np.zeros_like(ar) + val , marker='x' ,c=y )\n",
    "plt.show()\n",
    "\n",
    "\n",
    "\n",
    "fpc1=pc[:,0]\n",
    "fpc2=pc[:,1]\n",
    "rows=[]\n",
    "for p,p2 in zip(fpc1, fpc2):\n",
    "    contribution_1=p*EV[0]\n",
    "    contribution_2=p2*EV[1]\n",
    "    row=avg+contribution_1+contribution_2\n",
    "#     row=avg+contribution_1\n",
    "    rows.append(row)\n",
    "    print(row)\n",
    "rows=np.array(rows)\n",
    "\n",
    "\n",
    "np.dot(pc, EV)+avg"
   ]
  },
  {
   "cell_type": "code",
   "execution_count": null,
   "metadata": {},
   "outputs": [],
   "source": []
  }
 ],
 "metadata": {
  "kernelspec": {
   "display_name": "Python 3",
   "language": "python",
   "name": "python3"
  },
  "language_info": {
   "codemirror_mode": {
    "name": "ipython",
    "version": 3
   },
   "file_extension": ".py",
   "mimetype": "text/x-python",
   "name": "python",
   "nbconvert_exporter": "python",
   "pygments_lexer": "ipython3",
   "version": "3.7.3"
  }
 },
 "nbformat": 4,
 "nbformat_minor": 2
}
