{
 "cells": [
  {
   "cell_type": "code",
   "execution_count": 1,
   "metadata": {},
   "outputs": [],
   "source": [
    "import numpy as np\n",
    "from math import *\n",
    "from sklearn import datasets\n",
    "import operator\n",
    "iris =  datasets.load_iris() "
   ]
  },
  {
   "cell_type": "code",
   "execution_count": 3,
   "metadata": {},
   "outputs": [],
   "source": [
    "x = iris.data\n",
    "y = iris.target\n",
    "test_data=[5.1, 3.0, 4.2, 1.5]"
   ]
  },
  {
   "cell_type": "code",
   "execution_count": 9,
   "metadata": {},
   "outputs": [
    {
     "name": "stdout",
     "output_type": "stream",
     "text": [
      "1\n"
     ]
    },
    {
     "data": {
      "text/plain": [
       "(50, 41, 10)"
      ]
     },
     "execution_count": 9,
     "metadata": {},
     "output_type": "execute_result"
    }
   ],
   "source": [
    "distance={}\n",
    "for i in range(0,len(x)):\n",
    "    sm=0\n",
    "    for j in range (0,len(x[i])):\n",
    "        sm=sm+((x[i][j]-test_data[j])**2)\n",
    "    sq=sqrt(sm)\n",
    "    distance[i]=sq\n",
    "    \n",
    "sort=sorted(distance.items(),key=lambda k: k[1])\n",
    "\n",
    "\n",
    "k=101\n",
    "level=[]\n",
    "for i in range(0,k):\n",
    "    level.append(y[sort[i][0]])\n",
    "    \n",
    "c1,c2,c3=0,0,0\n",
    "\n",
    "for i in range (0,k):\n",
    "    if level[i]==1:\n",
    "        c1+=1\n",
    "    elif level[i]==2:\n",
    "        c2+=1\n",
    "    else:\n",
    "        c3+=1\n",
    "        \n",
    "        \n",
    "mx=max(c1,c2,c3)\n",
    "if mx==c1:\n",
    "    print(1)\n",
    "elif mx==c2:\n",
    "    print(2)\n",
    "else: \n",
    "    print(3)\n",
    "    \n",
    "c1,c2,c3"
   ]
  },
  {
   "cell_type": "code",
   "execution_count": null,
   "metadata": {},
   "outputs": [],
   "source": []
  }
 ],
 "metadata": {
  "kernelspec": {
   "display_name": "Python 3",
   "language": "python",
   "name": "python3"
  },
  "language_info": {
   "codemirror_mode": {
    "name": "ipython",
    "version": 3
   },
   "file_extension": ".py",
   "mimetype": "text/x-python",
   "name": "python",
   "nbconvert_exporter": "python",
   "pygments_lexer": "ipython3",
   "version": "3.7.3"
  }
 },
 "nbformat": 4,
 "nbformat_minor": 2
}
