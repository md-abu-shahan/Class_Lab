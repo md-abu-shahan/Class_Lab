{
 "cells": [
  {
   "cell_type": "code",
   "execution_count": 1,
   "metadata": {},
   "outputs": [],
   "source": [
    "import numpy as np\n",
    "import matplotlib.pyplot as plt"
   ]
  },
  {
   "cell_type": "code",
   "execution_count": 3,
   "metadata": {},
   "outputs": [],
   "source": [
    "x=[\n",
    "    [1,8,7],\n",
    "    [1,4,10],\n",
    "    [1,9,7],\n",
    "    [1,7,10],\n",
    "    [1,9,6],\n",
    "    [1,4,8],\n",
    "    [1,10,10],\n",
    "    [1,2,7],\n",
    "    [1,8,3],\n",
    "    [1,7,5],\n",
    "    [1,4,4],\n",
    "    [1,4,6],\n",
    "    [1,1,3],\n",
    "    [1,2,5]\n",
    "]\n",
    "\n",
    "y=[1,1,1,1,1,1,1,-1,-1,-1,-1,-1,-1,-1]\n",
    "x=np.array(x)\n",
    "y=np.array(y)"
   ]
  },
  {
   "cell_type": "code",
   "execution_count": 5,
   "metadata": {},
   "outputs": [
    {
     "name": "stdout",
     "output_type": "stream",
     "text": [
      "100.0 %\n"
     ]
    }
   ],
   "source": [
    "def li_reg(x,w):\n",
    "    val=0\n",
    "    for i,j in zip(x,w):\n",
    "        val+=i*j\n",
    "    return val\n",
    "\n",
    "def give_sign(val):\n",
    "    return np.sign(val)\n",
    "\n",
    "\n",
    "def predict(x, w):\n",
    "    hp=[]\n",
    "    for i in x: \n",
    "        lr=li_reg(i,w)\n",
    "        h=give_sign(lr)\n",
    "        hp.append(h)\n",
    "    return hp\n",
    "\n",
    "def miss_class(py, y): \n",
    "    miss=[]\n",
    "    for i in range(len(y)):\n",
    "        if py[i]!=y[i]:\n",
    "            miss.append(i)\n",
    "    return miss\n",
    "\n",
    "\n",
    "def perceptron(x, y):\n",
    "    w = np.random.rand(3)\n",
    "    py=predict(x,w)\n",
    "    miss=miss_class(py,y)\n",
    "    while len(miss)>0:\n",
    "        rnd=np.random.choice(miss)\n",
    "        rx=x[rnd]\n",
    "        ry=y[rnd]\n",
    "        w=w+rx*ry\n",
    "        py=predict(x,w)\n",
    "        miss=miss_class(py,y)   \n",
    "    return w\n",
    "\n",
    "\n",
    "w=perceptron(x,y)\n",
    "\n",
    "pp=predict(x,w)\n",
    "pp=np.array(pp)\n",
    "\n",
    "\n",
    "c=0\n",
    "for i in range(0,len(y)):\n",
    "    if(y[i]==pp[i]):\n",
    "        c+=1\n",
    "\n",
    "accuracy=(c/len(y))*100\n",
    "print(accuracy,'%')"
   ]
  }
 ],
 "metadata": {
  "kernelspec": {
   "display_name": "Python 3",
   "language": "python",
   "name": "python3"
  },
  "language_info": {
   "codemirror_mode": {
    "name": "ipython",
    "version": 3
   },
   "file_extension": ".py",
   "mimetype": "text/x-python",
   "name": "python",
   "nbconvert_exporter": "python",
   "pygments_lexer": "ipython3",
   "version": "3.7.3"
  }
 },
 "nbformat": 4,
 "nbformat_minor": 2
}
