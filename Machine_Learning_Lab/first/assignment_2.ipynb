{
 "cells": [
  {
   "cell_type": "code",
   "execution_count": 1,
   "metadata": {},
   "outputs": [],
   "source": [
    "import numpy as np"
   ]
  },
  {
   "cell_type": "code",
   "execution_count": 2,
   "metadata": {},
   "outputs": [],
   "source": [
    "x=[\n",
    "    [1,10],\n",
    "    [1,20],\n",
    "    [1,30],\n",
    "    [1,40],\n",
    "    [1,50],\n",
    "    [1,60],\n",
    "    [1,70] \n",
    "  ]\n",
    "y=[0, 0, 0, 1, 1, 1, 1]\n",
    "x=np.array(x)\n",
    "y=np.array(y)"
   ]
  },
  {
   "cell_type": "code",
   "execution_count": 3,
   "metadata": {},
   "outputs": [],
   "source": [
    "def z_value(theta):\n",
    "    z=[]\n",
    "    for i in range(0,len(x)):\n",
    "        z.append(np.dot(x[i],theta))\n",
    "        \n",
    "    return z"
   ]
  },
  {
   "cell_type": "code",
   "execution_count": 4,
   "metadata": {},
   "outputs": [],
   "source": [
    "def hypo(z):\n",
    "    y_cap=[]\n",
    "    for i in range(0,len(z)):\n",
    "        y_cap.append(1/(1+np.exp(-z[i])))\n",
    "    #print(y_cap)\n",
    "    return y_cap"
   ]
  },
  {
   "cell_type": "code",
   "execution_count": 5,
   "metadata": {},
   "outputs": [],
   "source": [
    "def up_theta(y_cap):\n",
    "    u_theta=[]\n",
    "    for i in range(0,len(u_theta1)):\n",
    "        s=0\n",
    "        for j in range(0,len(y_cap)):\n",
    "            s+=((y[j]-y_cap[j])*x[j][i])\n",
    "        d=(-1/len(y))*s\n",
    "        u_theta.append(d)\n",
    "        \n",
    "    #print(u_theta)\n",
    "    return u_theta"
   ]
  },
  {
   "cell_type": "code",
   "execution_count": 6,
   "metadata": {},
   "outputs": [
    {
     "name": "stdout",
     "output_type": "stream",
     "text": [
      "[-19.95851109446374, 0.5746114577456777]\n"
     ]
    }
   ],
   "source": [
    "u_theta1=[0,0]\n",
    "\n",
    "l=0.1\n",
    "\n",
    "run=5000\n",
    "for i in range(0,run):\n",
    "    z1=z_value(u_theta1)\n",
    "    y_cap1=hypo(z1)\n",
    "    #print(y_cap1)\n",
    "    theta=up_theta(y_cap1)\n",
    "    \n",
    "    for j in range(0,len(theta)):\n",
    "        u_theta1[j]-=(l*theta[j])\n",
    "print(u_theta1)  "
   ]
  },
  {
   "cell_type": "code",
   "execution_count": 7,
   "metadata": {},
   "outputs": [],
   "source": [
    "for i in range(0,len(y_cap1)):\n",
    "    if(y_cap1[i]<.5):\n",
    "        y_cap1[i]=0;\n",
    "    else:\n",
    "        y_cap1[i]=1;"
   ]
  },
  {
   "cell_type": "code",
   "execution_count": 8,
   "metadata": {},
   "outputs": [
    {
     "name": "stdout",
     "output_type": "stream",
     "text": [
      "100.0 %\n"
     ]
    }
   ],
   "source": [
    "c=0\n",
    "for i in range(0,len(y_cap1)):\n",
    "    if(y[i]==y_cap1[i]):\n",
    "        c+=1\n",
    "\n",
    "accuracy=(c/len(y_cap1))*100\n",
    "print(accuracy,'%')"
   ]
  }
 ],
 "metadata": {
  "kernelspec": {
   "display_name": "Python 3",
   "language": "python",
   "name": "python3"
  },
  "language_info": {
   "codemirror_mode": {
    "name": "ipython",
    "version": 3
   },
   "file_extension": ".py",
   "mimetype": "text/x-python",
   "name": "python",
   "nbconvert_exporter": "python",
   "pygments_lexer": "ipython3",
   "version": "3.7.3"
  }
 },
 "nbformat": 4,
 "nbformat_minor": 2
}
