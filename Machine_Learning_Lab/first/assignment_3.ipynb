{
 "cells": [
  {
   "cell_type": "code",
   "execution_count": 16,
   "metadata": {},
   "outputs": [],
   "source": [
    "import numpy as np\n",
    "from math import *\n",
    "from sklearn.model_selection import train_test_split\n",
    "from sklearn import datasets\n",
    "from collections import Counter"
   ]
  },
  {
   "cell_type": "code",
   "execution_count": 17,
   "metadata": {},
   "outputs": [],
   "source": [
    "iris = datasets.load_iris() \n",
    "x = iris.data\n",
    "y = iris.target"
   ]
  },
  {
   "cell_type": "code",
   "execution_count": 18,
   "metadata": {},
   "outputs": [],
   "source": [
    "def dot_product(a,b):\n",
    "    test_list=np.dot(a,b)\n",
    "    return test_list"
   ]
  },
  {
   "cell_type": "code",
   "execution_count": 19,
   "metadata": {},
   "outputs": [],
   "source": [
    "def hypothesis_fun(dot_p):\n",
    "    test_list=[]\n",
    "    for i in dot_p:\n",
    "        variable=(1/(1+np.exp(-i)))\n",
    "        test_list.append(variable)\n",
    "    return test_list;"
   ]
  },
  {
   "cell_type": "code",
   "execution_count": 20,
   "metadata": {},
   "outputs": [],
   "source": [
    "def update_theta_fun(x,y,hypothesis_list):\n",
    "    v=[]\n",
    "    for i in range(0,len(x[0])):\n",
    "            v.append(0)\n",
    "    d=[]\n",
    "    for i,j,k in zip(x,y,hypothesis_list):\n",
    "        for l in range(0,len(x[0])):\n",
    "            v[l]+=(i[l]*(j-k))\n",
    "    for l in range(0,len(x[0])):\n",
    "        d.append(-1*(v[l]/len(x)))\n",
    "    return d;"
   ]
  },
  {
   "cell_type": "code",
   "execution_count": 21,
   "metadata": {},
   "outputs": [
    {
     "name": "stdout",
     "output_type": "stream",
     "text": [
      "[263.99557067169826, -75.49066278652236, 681.869308411799, 296.73015609547537]\n"
     ]
    }
   ],
   "source": [
    "def learning_fun(x):\n",
    "    theta=[]\n",
    "    for i in range(0,len(x[0])):\n",
    "            theta.append(0)\n",
    "    learning_value =0.1\n",
    "    for i in range(0,5000):\n",
    "        new_dot_p=dot_product(x,theta)\n",
    "        new_hypothesis_list=hypothesis_fun(new_dot_p)\n",
    "        new_theta=update_theta_fun(x,y,new_hypothesis_list)\n",
    "        for l in range(0,len(x[0])):\n",
    "            theta[l]=theta[l]-(new_theta[l]*learning_value)\n",
    "    return theta;\n",
    "learning_theta=learning_fun(x)\n",
    "print(learning_theta)"
   ]
  },
  {
   "cell_type": "code",
   "execution_count": 22,
   "metadata": {},
   "outputs": [],
   "source": [
    "def check_y(y1):\n",
    "    z=[]\n",
    "    if(y1>=0.5):\n",
    "        return 1\n",
    "    else:\n",
    "        return 0 "
   ]
  },
  {
   "cell_type": "code",
   "execution_count": 23,
   "metadata": {},
   "outputs": [],
   "source": [
    "def accuracy_y(x,y,learning_theta):\n",
    "    final_dot_p=dot_product(x,learning_theta)\n",
    "    final_hypothesis_list=hypothesis_fun(final_dot_p)\n",
    "    new_y=[]\n",
    "    for i in final_hypothesis_list:\n",
    "            new_y.append(check_y(i))\n",
    "    print('new_y :',new_y)\n",
    "    count=0\n",
    "    for i,j in zip(y,new_y):\n",
    "        if(i==j):\n",
    "            count+=1\n",
    "    if(len(y)!=0):\n",
    "        print('old_y :',y)\n",
    "        count=count/len(y)\n",
    "        print('accuracy= ',count*100,'%')"
   ]
  },
  {
   "cell_type": "code",
   "execution_count": 24,
   "metadata": {},
   "outputs": [
    {
     "name": "stdout",
     "output_type": "stream",
     "text": [
      "new_y : [1, 1, 1, 1, 1, 1, 1, 1, 1, 1, 1, 1, 1, 1, 1, 1, 1, 1, 1, 1, 1, 1, 1, 1, 1, 1, 1, 1, 1, 1, 1, 1, 1, 1, 1, 1, 1, 1, 1, 1, 1, 1, 1, 1, 1, 1, 1, 1, 1, 1, 1, 1, 1, 1, 1, 1, 1, 1, 1, 1, 1, 1, 1, 1, 1, 1, 1, 1, 1, 1, 1, 1, 1, 1, 1, 1, 1, 1, 1, 1, 1, 1, 1, 1, 1, 1, 1, 1, 1, 1, 1, 1, 1, 1, 1, 1, 1, 1, 1, 1, 1, 1, 1, 1, 1, 1, 1, 1, 1, 1, 1, 1, 1, 1, 1, 1, 1, 1, 1, 1, 1, 1, 1, 1, 1, 1, 1, 1, 1, 1, 1, 1, 1, 1, 1, 1, 1, 1, 1, 1, 1, 1, 1, 1, 1, 1, 1, 1, 1, 1]\n",
      "old_y : [0 0 0 0 0 0 0 0 0 0 0 0 0 0 0 0 0 0 0 0 0 0 0 0 0 0 0 0 0 0 0 0 0 0 0 0 0\n",
      " 0 0 0 0 0 0 0 0 0 0 0 0 0 1 1 1 1 1 1 1 1 1 1 1 1 1 1 1 1 1 1 1 1 1 1 1 1\n",
      " 1 1 1 1 1 1 1 1 1 1 1 1 1 1 1 1 1 1 1 1 1 1 1 1 1 1 2 2 2 2 2 2 2 2 2 2 2\n",
      " 2 2 2 2 2 2 2 2 2 2 2 2 2 2 2 2 2 2 2 2 2 2 2 2 2 2 2 2 2 2 2 2 2 2 2 2 2\n",
      " 2 2]\n",
      "accuracy=  33.33333333333333 %\n"
     ]
    }
   ],
   "source": [
    "accuracy_y(x,y,learning_theta)"
   ]
  },
  {
   "cell_type": "code",
   "execution_count": null,
   "metadata": {},
   "outputs": [],
   "source": []
  }
 ],
 "metadata": {
  "kernelspec": {
   "display_name": "Python 3",
   "language": "python",
   "name": "python3"
  },
  "language_info": {
   "codemirror_mode": {
    "name": "ipython",
    "version": 3
   },
   "file_extension": ".py",
   "mimetype": "text/x-python",
   "name": "python",
   "nbconvert_exporter": "python",
   "pygments_lexer": "ipython3",
   "version": "3.7.3"
  }
 },
 "nbformat": 4,
 "nbformat_minor": 2
}
