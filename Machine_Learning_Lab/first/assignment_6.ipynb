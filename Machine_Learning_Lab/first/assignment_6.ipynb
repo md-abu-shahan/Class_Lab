{
 "cells": [
  {
   "cell_type": "code",
   "execution_count": 1,
   "metadata": {},
   "outputs": [],
   "source": [
    "import numpy as np\n",
    "from math import *\n",
    "from sklearn import datasets\n",
    "import operator"
   ]
  },
  {
   "cell_type": "code",
   "execution_count": 2,
   "metadata": {},
   "outputs": [],
   "source": [
    "iris =  datasets.load_iris() \n",
    "x = iris.data\n",
    "y = iris.target"
   ]
  },
  {
   "cell_type": "code",
   "execution_count": 3,
   "metadata": {},
   "outputs": [],
   "source": [
    "test_data=[5.1, 3.0, 4.2, 1.5]"
   ]
  },
  {
   "cell_type": "code",
   "execution_count": 4,
   "metadata": {},
   "outputs": [],
   "source": [
    "distance={}\n",
    "for i in range(0,len(x)):\n",
    "    sm=0\n",
    "    for j in range (0,len(x[i])):\n",
    "        sm=sm+((x[i][j]-test_data[j])**2)\n",
    "    sq=sqrt(sm)\n",
    "    distance[i]=sq\n",
    "    \n",
    "sort=sorted(distance.items(),key=lambda k: k[1])"
   ]
  },
  {
   "cell_type": "code",
   "execution_count": 5,
   "metadata": {},
   "outputs": [],
   "source": [
    "k=101\n",
    "level=[]\n",
    "for i in range(0,k):\n",
    "    level.append(y[sort[i][0]])"
   ]
  },
  {
   "cell_type": "code",
   "execution_count": 8,
   "metadata": {},
   "outputs": [
    {
     "name": "stdout",
     "output_type": "stream",
     "text": [
      "{0: 10, 1: 50, 2: 41}\n"
     ]
    }
   ],
   "source": [
    "ln=set(y)\n",
    "#print(ln)\n",
    "arr=[]\n",
    "dd={}\n",
    "for i in ln:\n",
    "    arr.append(i)\n",
    "\n",
    "#print(arr)\n",
    "\n",
    "for j in range(0,len(arr)):\n",
    "    dd[j]=0\n",
    "    \n",
    "for i in range(0,k):\n",
    "    for j in range(0,len(arr)):\n",
    "        if(level[i]==arr[j]):\n",
    "            dd[arr[j]]+=1\n",
    "print(dd)          "
   ]
  },
  {
   "cell_type": "code",
   "execution_count": 9,
   "metadata": {},
   "outputs": [
    {
     "name": "stdout",
     "output_type": "stream",
     "text": [
      "1\n"
     ]
    }
   ],
   "source": [
    "xp=max(dd.items(),key=operator.itemgetter(1))[0]\n",
    "print(xp)"
   ]
  },
  {
   "cell_type": "code",
   "execution_count": null,
   "metadata": {},
   "outputs": [],
   "source": []
  }
 ],
 "metadata": {
  "kernelspec": {
   "display_name": "Python 3",
   "language": "python",
   "name": "python3"
  },
  "language_info": {
   "codemirror_mode": {
    "name": "ipython",
    "version": 3
   },
   "file_extension": ".py",
   "mimetype": "text/x-python",
   "name": "python",
   "nbconvert_exporter": "python",
   "pygments_lexer": "ipython3",
   "version": "3.7.3"
  }
 },
 "nbformat": 4,
 "nbformat_minor": 2
}
