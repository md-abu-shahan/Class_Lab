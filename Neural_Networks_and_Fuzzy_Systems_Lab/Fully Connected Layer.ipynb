{
 "cells": [
  {
   "cell_type": "markdown",
   "metadata": {},
   "source": [
    "#### CSE 452: Neural Networks and Fuzzy Systems Lab\n",
    "Summer-2020, Dept. of CSE, NEUB <br>"
   ]
  },
  {
   "cell_type": "markdown",
   "metadata": {},
   "source": [
    "#### Student Info\n",
    "<b>Name:</b> MD. ABU SHAHAN<br>\n",
    "<b>Reg. No:</b> 170103020017"
   ]
  },
  {
   "cell_type": "markdown",
   "metadata": {},
   "source": [
    "### Assignment 5: Fully Connected Layer"
   ]
  },
  {
   "cell_type": "code",
   "execution_count": 1,
   "metadata": {},
   "outputs": [],
   "source": [
    "import numpy as np\n",
    "import matplotlib.pyplot as plt\n",
    "from sklearn.model_selection import train_test_split \n",
    "from sklearn.metrics import classification_report, confusion_matrix ,  accuracy_score\n",
    "from sklearn import datasets \n",
    "from sklearn.metrics import log_loss"
   ]
  },
  {
   "cell_type": "markdown",
   "metadata": {},
   "source": [
    "<b>Toy data</b>"
   ]
  },
  {
   "cell_type": "code",
   "execution_count": 72,
   "metadata": {},
   "outputs": [
    {
     "name": "stdout",
     "output_type": "stream",
     "text": [
      "(6, 2) (6, 2)\n"
     ]
    }
   ],
   "source": [
    "X=np.array([[1, 2], [4, 5], [12, 7], [16, 10], [20, 5], [5, 8]  ])\n",
    "y=np.array([[0,1], [0,1], [1,0], [1,0],  [0,1], [1,0] ])\n",
    "print(X.shape, y.shape)"
   ]
  },
  {
   "cell_type": "code",
   "execution_count": 73,
   "metadata": {},
   "outputs": [
    {
     "name": "stdout",
     "output_type": "stream",
     "text": [
      "[[0 1]\n",
      " [0 1]\n",
      " [1 0]\n",
      " [1 0]\n",
      " [0 1]\n",
      " [1 0]]\n"
     ]
    }
   ],
   "source": [
    "print(y)"
   ]
  },
  {
   "cell_type": "markdown",
   "metadata": {},
   "source": [
    "<b>Softmax</b>\n",
    "$$Let, a=[a_0, a_1, a_2, ..]$$\n",
    "$$S_i=\\frac{e^{a_i}}{\\sum_{k=0}^{N} {e^{a_k}}}$$"
   ]
  },
  {
   "cell_type": "markdown",
   "metadata": {},
   "source": [
    "<b>Task 1: Implement Softmax</b> <br>\n",
    "1. Implement both ways: Using loop and Without using loop. <br>\n",
    "2. What challanges did you face?\n",
    "3. Check output manually."
   ]
  },
  {
   "cell_type": "code",
   "execution_count": 74,
   "metadata": {},
   "outputs": [
    {
     "name": "stdout",
     "output_type": "stream",
     "text": [
      "[[1.2 1.6]\n",
      " [2.4 3.4]\n",
      " [3.8 5.8]\n",
      " [5.1 7.8]\n",
      " [4.  6.6]\n",
      " [3.4 4.8]]\n"
     ]
    }
   ],
   "source": [
    "z=np.array( [ [1.2, 1.6], [2.4, 3.4],  [3.8, 5.8],  [5.1, 7.8],  [4. , 6.6],   [3.4, 4.8]])\n",
    "print(z)"
   ]
  },
  {
   "cell_type": "code",
   "execution_count": 75,
   "metadata": {},
   "outputs": [
    {
     "data": {
      "text/plain": [
       "{0: [0.401312339887548, 0.598687660112452],\n",
       " 1: [0.2689414213699951, 0.7310585786300049],\n",
       " 2: [0.11920292202211756, 0.8807970779778825],\n",
       " 3: [0.06297335605699649, 0.9370266439430035],\n",
       " 4: [0.06913842034334684, 0.9308615796566533],\n",
       " 5: [0.19781611144141828, 0.8021838885585818]}"
      ]
     },
     "execution_count": 75,
     "metadata": {},
     "output_type": "execute_result"
    }
   ],
   "source": [
    "#your code goes here.\n",
    "#a=softmax(z)\n",
    "import math\n",
    "a={}\n",
    "ind=0\n",
    "for i in z:\n",
    "    sm1=math.exp(i[0])\n",
    "    sm2=math.exp(i[1])\n",
    "    sm=sm1+sm2\n",
    "    b=[]\n",
    "    for j in i:\n",
    "        b.append(math.exp(j)/sm)\n",
    "    a[ind]=b\n",
    "    ind+=1\n",
    "a"
   ]
  },
  {
   "cell_type": "code",
   "execution_count": 76,
   "metadata": {},
   "outputs": [],
   "source": [
    "from scipy.special import softmax\n",
    "aa=softmax(z,axis=1)"
   ]
  },
  {
   "cell_type": "code",
   "execution_count": 77,
   "metadata": {},
   "outputs": [
    {
     "name": "stdout",
     "output_type": "stream",
     "text": [
      "0.4013123398875481 0.5986876601124522 \n",
      "0.26894142136999505 0.7310585786300048 \n",
      "0.11920292202211759 0.8807970779778826 \n",
      "0.06297335605699647 0.9370266439430033 \n",
      "0.06913842034334684 0.9308615796566532 \n",
      "0.19781611144141834 0.802183888558582 \n"
     ]
    }
   ],
   "source": [
    "for i in aa:\n",
    "    for j in i:\n",
    "        print(j,end=' ')\n",
    "    print()"
   ]
  },
  {
   "cell_type": "markdown",
   "metadata": {},
   "source": [
    "<b>Task 2: calculate feedforward output</b><br><br>\n",
    "$A=softmax(X.w+b)$\n",
    "\n",
    "Output should look like the following. <br>\n",
    "\n",
    "[[0.401 0.599] <br>\n",
    " [0.269 0.731] <br>\n",
    " [0.119 0.881] <br>\n",
    " [0.063 0.937] <br>\n",
    " [0.069 0.931] <br>\n",
    " [0.198 0.802]]"
   ]
  },
  {
   "cell_type": "code",
   "execution_count": 78,
   "metadata": {},
   "outputs": [],
   "source": [
    "b=np.array([0.5, 0.6])\n",
    "w=np.array([ [0.1,0.2], [0.3,0.4] ])"
   ]
  },
  {
   "cell_type": "code",
   "execution_count": 79,
   "metadata": {},
   "outputs": [
    {
     "name": "stdout",
     "output_type": "stream",
     "text": [
      "[[0.40131234 0.59868766]\n",
      " [0.26894142 0.73105858]\n",
      " [0.11920292 0.88079708]\n",
      " [0.06297336 0.93702664]\n",
      " [0.06913842 0.93086158]\n",
      " [0.19781611 0.80218389]]\n"
     ]
    }
   ],
   "source": [
    "#your code goes here.\n",
    "x_w=np.dot(X,w)\n",
    "z=x_w+b\n",
    "A=softmax(z,axis=1)\n",
    "print(A)"
   ]
  },
  {
   "cell_type": "markdown",
   "metadata": {},
   "source": [
    "<b>Task 3: calculate log loss</b><br><br> \n",
    "Note: <b>without using any loop.</b> <br>\n",
    "$$L_i = - y_i* \\sum \\log (A_i)$$\n",
    "\\begin{equation*}\n",
    "L =\\frac{1}{N} \\sum_i L_i \n",
    "\\end{equation*}\n",
    "\n",
    "Output should look like the following. <br>\n",
    "Loss: [0.513 0.313 2.127 2.765 0.072 1.62 ] <br>\n",
    "average loss: 1.2351"
   ]
  },
  {
   "cell_type": "code",
   "execution_count": 80,
   "metadata": {},
   "outputs": [
    {
     "name": "stdout",
     "output_type": "stream",
     "text": [
      "[[0.51301525]\n",
      " [0.31326169]\n",
      " [2.12692801]\n",
      " [2.76504356]\n",
      " [0.07164469]\n",
      " [1.62041741]]\n",
      "1.2350517691039766\n"
     ]
    }
   ],
   "source": [
    "#your code goes here.\n",
    "L=-np.sum( y*np.log(A) , axis=1, keepdims=True)\n",
    "print(L)\n",
    "avg=np.average(L)\n",
    "print(avg)"
   ]
  },
  {
   "cell_type": "markdown",
   "metadata": {},
   "source": [
    "<b>Task 4: calculate gradient</b><br>\n",
    "Note: <b>calculate dz, dw, db without using loop</b> </br>\n",
    "$$dz=A-y$$ \n",
    "$$dw=\\frac{1}{N} ( X^T.dz )$$   \n",
    "$$db=\\frac{1}{N} \\sum dz $$ \n",
    "\n",
    "Dimension check: y-yh= (2xN).(NX2)=(2x2) \n",
    "\n",
    "dw should look like below, <br>\n",
    "[[-4.452,  4.452], <br>\n",
    "[-3.243,  3.243]])\n",
    "\n",
    "db should look like below<br>\n",
    "[[-0.313,  0.313]]"
   ]
  },
  {
   "cell_type": "code",
   "execution_count": 82,
   "metadata": {},
   "outputs": [
    {
     "name": "stdout",
     "output_type": "stream",
     "text": [
      "dw:  [[-4.45217737  4.45217737]\n",
      " [-3.2433822   3.2433822 ]]\n",
      "db:  [-0.3134359  0.3134359]\n"
     ]
    }
   ],
   "source": [
    "#your code goes here.\n",
    "dz=A-y\n",
    "#print(dz)\n",
    "x=X.T\n",
    "dot=np.dot(x,dz)\n",
    "dw=dot/len(dz)\n",
    "print('dw: ',dw)\n",
    "\n",
    "\n",
    "db=sum(dz)/len(dz)\n",
    "print('db: ',db)"
   ]
  },
  {
   "cell_type": "markdown",
   "metadata": {},
   "source": [
    "<b>Task 5: Train the network using gradient descent optimization</b>"
   ]
  },
  {
   "cell_type": "code",
   "execution_count": null,
   "metadata": {},
   "outputs": [],
   "source": [
    "lr=0.01\n",
    "epoch=1000"
   ]
  },
  {
   "cell_type": "code",
   "execution_count": 84,
   "metadata": {},
   "outputs": [],
   "source": [
    "#init w and b randomly.\n",
    "D=X.shape[1]\n",
    "C=y.shape[1]\n",
    "w = 0.01 * np.random.randn(D,C)\n",
    "b = np.zeros((1,C))"
   ]
  },
  {
   "cell_type": "markdown",
   "metadata": {},
   "source": [
    " 1. Init w and b randomly\n",
    " 2. repeat the following\n",
    "     3. calculate feedforward output\n",
    "     4. calculate gradient\n",
    "     5. update w and b (w=w-lr\\*dw,  b=b-lr*db)\n",
    "     6. calculate loss and keep track.\n",
    "\n",
    "7. After training plot the loss\n",
    "8. test prediction on the X data"
   ]
  },
  {
   "cell_type": "code",
   "execution_count": 85,
   "metadata": {},
   "outputs": [],
   "source": [
    "#your code goes here.\n",
    "D=X.shape[1]\n",
    "C=y.shape[1]\n",
    "w = 0.01 * np.random.randn(D,C)\n",
    "b = np.zeros((1,C))\n",
    "loss=[]\n",
    "for i in range(0,epoch):\n",
    "    x_w=np.dot(X,w)\n",
    "    z=x_w+b\n",
    "    A=softmax(z,axis=1)\n",
    "    \n",
    "    dz=A-y\n",
    "    x=X.T\n",
    "    dot=np.dot(x,dz)\n",
    "    dw=dot/len(dz)\n",
    "    db=sum(dz)/len(dz)\n",
    "    \n",
    "    w=w-lr*dw\n",
    "    b=b-lr*db\n",
    "    \n",
    "    loss.append(log_loss(y,A))"
   ]
  },
  {
   "cell_type": "code",
   "execution_count": 86,
   "metadata": {},
   "outputs": [
    {
     "data": {
      "image/png": "[encoded data removed]",
      "text/plain": [
       "<Figure size 432x288 with 1 Axes>"
      ]
     },
     "metadata": {
      "needs_background": "light"
     },
     "output_type": "display_data"
    }
   ],
   "source": [
    "plt.plot(loss)\n",
    "plt.show()"
   ]
  },
  {
   "cell_type": "code",
   "execution_count": 97,
   "metadata": {},
   "outputs": [
    {
     "name": "stdout",
     "output_type": "stream",
     "text": [
      "83.33333333333333 %\n"
     ]
    }
   ],
   "source": [
    "x_w=np.dot(X,w)\n",
    "z=x_w+b\n",
    "A=softmax(z,axis=1)\n",
    "AA=np.zeros((len(A), len(A[0])))\n",
    "for i in range(len(A)):\n",
    "    mx=np.max(A[i])\n",
    "    if(mx==A[i][0]):\n",
    "        AA[i][0]=1\n",
    "    else:\n",
    "        AA[i][1]=1\n",
    "cnt=0\n",
    "for i in range(0,len(AA)):\n",
    "    if(AA[i][0]==y[i][0] and AA[i][1]==y[i][1]):\n",
    "        cnt+=1\n",
    "\n",
    "percentage=(cnt*100)/len(AA)\n",
    "print(percentage,'%')"
   ]
  },
  {
   "cell_type": "markdown",
   "metadata": {},
   "source": [
    "<b>Digits Data</b>"
   ]
  },
  {
   "cell_type": "code",
   "execution_count": 114,
   "metadata": {},
   "outputs": [],
   "source": [
    "datas=datasets.load_digits()\n",
    "data=datas['data']\n",
    "label=datas['target'] "
   ]
  },
  {
   "cell_type": "code",
   "execution_count": 115,
   "metadata": {},
   "outputs": [
    {
     "name": "stdout",
     "output_type": "stream",
     "text": [
      "Training shape: (1437, 64) (1437,)\n",
      "Testing shape: (360, 64) (360,)\n"
     ]
    }
   ],
   "source": [
    "X,X_test, y, y_test=train_test_split(data, label, test_size = 0.2)\n",
    "print('Training shape:', X.shape, y.shape)\n",
    "print('Testing shape:',X_test.shape, y_test.shape)"
   ]
  },
  {
   "cell_type": "code",
   "execution_count": 116,
   "metadata": {},
   "outputs": [],
   "source": [
    "N,D=X.shape            #num_data, data_dimension\n",
    "C=np.max(y)+1          #number of classes"
   ]
  },
  {
   "cell_type": "code",
   "execution_count": 117,
   "metadata": {},
   "outputs": [
    {
     "data": {
      "text/plain": [
       "10"
      ]
     },
     "execution_count": 117,
     "metadata": {},
     "output_type": "execute_result"
    }
   ],
   "source": [
    "C"
   ]
  },
  {
   "cell_type": "code",
   "execution_count": 118,
   "metadata": {},
   "outputs": [
    {
     "data": {
      "text/plain": [
       "array([8, 4, 2, ..., 7, 7, 9])"
      ]
     },
     "execution_count": 118,
     "metadata": {},
     "output_type": "execute_result"
    }
   ],
   "source": [
    "y"
   ]
  },
  {
   "cell_type": "markdown",
   "metadata": {},
   "source": [
    "<b>Task 6: Train on the digits data [Note: y is not one-hot vector now]</b>\n",
    "1. Train a two layer[Input, Output] network\n",
    "2. Plot loss, tune learning rate, number of epochs\n",
    "3. predict on test data and show accuracy.  [accuracy should be above 90%]\n",
    "4. Play with the learning rate and number of epochs [try few values]"
   ]
  },
  {
   "cell_type": "code",
   "execution_count": 120,
   "metadata": {},
   "outputs": [],
   "source": [
    "y_onehot=np.zeros((N, 10))\n",
    "y_onehot[ range(N), y]=1"
   ]
  },
  {
   "cell_type": "code",
   "execution_count": 122,
   "metadata": {},
   "outputs": [],
   "source": [
    "#your code goes here.\n",
    "w = 0.01 * np.random.randn(D,C)\n",
    "b = np.zeros((1,C))\n",
    "loss=[]\n",
    "for i in range(0,epoch):\n",
    "    x_w=np.dot(X,w)\n",
    "    z=x_w+b\n",
    "    A=softmax(z,axis=1)\n",
    "    \n",
    "    dz=A-y_onehot\n",
    "    x=X.T\n",
    "    dot=np.dot(x,dz)\n",
    "    dw=dot/len(dz)\n",
    "    db=sum(dz)/len(dz)\n",
    "    \n",
    "    w=w-lr*dw\n",
    "    b=b-lr*db\n",
    "    \n",
    "    loss.append(log_loss(y_onehot,A))"
   ]
  },
  {
   "cell_type": "code",
   "execution_count": 123,
   "metadata": {},
   "outputs": [
    {
     "data": {
      "image/png": "[encoded data removed]",
      "text/plain": [
       "<Figure size 432x288 with 1 Axes>"
      ]
     },
     "metadata": {
      "needs_background": "light"
     },
     "output_type": "display_data"
    }
   ],
   "source": [
    "plt.plot(loss)\n",
    "plt.show()"
   ]
  },
  {
   "cell_type": "code",
   "execution_count": 130,
   "metadata": {},
   "outputs": [],
   "source": [
    "y_onehot=np.zeros((len(y_test), 10))\n",
    "y_onehot[ range(len(y_test)), y_test]=1"
   ]
  },
  {
   "cell_type": "code",
   "execution_count": 131,
   "metadata": {},
   "outputs": [
    {
     "name": "stdout",
     "output_type": "stream",
     "text": [
      "96.11111111111111 %\n"
     ]
    }
   ],
   "source": [
    "x_w=np.dot(X_test,w)\n",
    "z=x_w+b\n",
    "A=softmax(z,axis=1)\n",
    "AA=np.zeros((len(A), len(A[0])))\n",
    "for i in range(len(A)):\n",
    "    mx=np.max(A[i])\n",
    "    for j in range(0,C):\n",
    "        if(mx==A[i][j]):\n",
    "            AA[i][j]=1\n",
    "cnt=0\n",
    "c=0\n",
    "for i in range(0,len(AA)):\n",
    "    c=0\n",
    "    for j in range(0,C): \n",
    "        if(AA[i][j]==y_onehot[i][j]):\n",
    "            c+=1\n",
    "    if c==C:\n",
    "        cnt+=1\n",
    "\n",
    "percentage=(cnt*100)/len(AA)\n",
    "print(percentage,'%')"
   ]
  },
  {
   "cell_type": "markdown",
   "metadata": {},
   "source": [
    "### Submission"
   ]
  },
  {
   "cell_type": "markdown",
   "metadata": {},
   "source": [
    "1. Complete The Honor Code\n",
    "2. Submit this notebook file to google classroom.\n",
    "\n",
    "<b>Comment on google classroom if you have any questions</b>"
   ]
  },
  {
   "cell_type": "markdown",
   "metadata": {},
   "source": [
    "### Honor Code\n",
    "Plese type the following in the next cell. Replace the underlined text with your own. "
   ]
  },
  {
   "cell_type": "markdown",
   "metadata": {},
   "source": [
    "I am <u>Md. Abu Shahan</u> bearing registration no. <u>170103020017</u> hereby declaring that I myself did my assignments, I didn't directly copy any code from others. I have a complete understanding of my code and can explain. I respect this honor code and I believe it will be useful to maintain academic integrity.<br>\n",
    "\n",
    "Name: <u>Md. Abu Shahan</u><br>\n",
    "Date: <u>01/09/20</u>"
   ]
  },
  {
   "cell_type": "markdown",
   "metadata": {},
   "source": [
    "_your__writing_"
   ]
  }
 ],
 "metadata": {
  "kernelspec": {
   "display_name": "Python 3",
   "language": "python",
   "name": "python3"
  },
  "language_info": {
   "codemirror_mode": {
    "name": "ipython",
    "version": 3
   },
   "file_extension": ".py",
   "mimetype": "text/x-python",
   "name": "python",
   "nbconvert_exporter": "python",
   "pygments_lexer": "ipython3",
   "version": "3.7.3"
  },
  "metadata": {
   "deletable": false,
   "editable": false,
   "trusted": true
  }
 },
 "nbformat": 4,
 "nbformat_minor": 2
}
